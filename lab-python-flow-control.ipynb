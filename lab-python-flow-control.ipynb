{
 "cells": [
  {
   "cell_type": "markdown",
   "id": "d3bfc191-8885-42ee-b0a0-bbab867c6f9f",
   "metadata": {
    "tags": []
   },
   "source": [
    "# Lab | Flow Control"
   ]
  },
  {
   "cell_type": "markdown",
   "id": "3851fcd1-cf98-4653-9c89-e003b7ec9400",
   "metadata": {},
   "source": [
    "## Exercise: Managing Customer Orders Optimized\n",
    "\n",
    "In the last lab, you were starting an online store that sells various products. To ensure smooth operations, you developed a program that manages customer orders and inventory.\n",
    "\n",
    "You did so without using flow control. Let's go a step further and improve this code.\n",
    "\n",
    "Follow the steps below to complete the exercise:\n",
    "\n",
    "1. Look at your code from the lab data structures, and improve repeated code with loops.\n",
    "\n",
    "2. Instead of asking the user to input the name of three products that a customer wants to order, do the following:\n",
    "    \n",
    "    a. Prompt the user to enter the name of a product that a customer wants to order.\n",
    "    \n",
    "    b. Add the product name to the \"customer_orders\" set.\n",
    "    \n",
    "    c. Ask the user if they want to add another product (yes/no).\n",
    "    \n",
    "    d. Continue the loop until the user does not want to add another product.\n",
    "\n",
    "3. Instead of updating the inventory by subtracting 1 from the quantity of each product, only do it for  the products that were ordered (those in \"customer_orders\")."
   ]
  },
  {
   "cell_type": "code",
   "execution_count": 24,
   "id": "9d83a808-c9c4-4128-88ac-c78a5b105b1f",
   "metadata": {},
   "outputs": [
    {
     "name": "stdin",
     "output_type": "stream",
     "text": [
      "How many t-shirts are there in the inventory? 2\n",
      "How many mugs are there in the inventory? 2\n",
      "How many hats are there in the inventory? 2\n",
      "How many books are there in the inventory? 2\n",
      "How many keychains are there in the inventory? 2\n",
      "Please input the product that you would like to order:  t-shirt\n",
      "Would you like to order another item? (Y/N) b\n"
     ]
    },
    {
     "name": "stdout",
     "output_type": "stream",
     "text": [
      "Please enter a valid command.\n"
     ]
    },
    {
     "name": "stdin",
     "output_type": "stream",
     "text": [
      "Would you like to order another item? (Y/N) y\n",
      "Please input the product that you would like to order:  sausage\n",
      "That's not a valid product. Please input the product that you would like to order:  mug\n",
      "Would you like to order another item? (Y/N) n\n"
     ]
    },
    {
     "name": "stdout",
     "output_type": "stream",
     "text": [
      "['t-shirt', 'mug']\n",
      "Order Statistics:\n",
      "Total Products Ordered: 2\n",
      "Percentage of Products Ordered: 20.0%\n",
      "\n",
      "t-shirt: 1\n",
      "mug: 1\n",
      "hat: 2\n",
      "book: 2\n",
      "keychain: 2\n"
     ]
    }
   ],
   "source": [
    "products = [\"t-shirt\", \"mug\", \"hat\", \"book\", \"keychain\"]\n",
    "inventory = {}\n",
    "for i in products:\n",
    "    inventory[i] = int(input(f\"How many {i}s are there in the inventory?\"))\n",
    "inventory\n",
    "\n",
    "\n",
    "customer_orders = set()\n",
    "user_added_sets = []\n",
    "user_added_sets.append(input(\"Please input the product that you would like to order: \"))\n",
    "if user_added_sets[-1] not in products:\n",
    "    user_added_sets.remove(user_added_sets[-1])\n",
    "    user_added_sets.append(input(\"That's not a valid product. Please input the product that you would like to order: \"))\n",
    "still_ordering = True\n",
    "while still_ordering == True:\n",
    "    user_choice = input(\"Would you like to order another item? (Y/N)\")\n",
    "    if user_choice.lower() == \"n\":\n",
    "        still_ordering = False\n",
    "        break\n",
    "    elif user_choice.lower() == \"y\":\n",
    "        user_added_sets.append(input(\"Please input the product that you would like to order: \"))\n",
    "        if user_added_sets[-1] not in products:\n",
    "            user_added_sets.remove(user_added_sets[-1])\n",
    "            user_added_sets.append(input(\"That's not a valid product. Please input the product that you would like to order: \"))\n",
    "    else: \n",
    "        print(\"Please enter a valid command.\")\n",
    "print(user_added_sets)\n",
    "customer_orders = user_added_sets\n",
    "\n",
    "total_ordered = len(customer_orders)\n",
    "total_stock = 0\n",
    "for i in inventory:\n",
    "    total_stock += int(inventory[i])\n",
    "\n",
    "\n",
    "order_percentage = round(total_ordered / total_stock * 100, 2)\n",
    "order_status = (total_ordered, order_percentage)\n",
    "\n",
    "print(f\"Order Statistics:\"\n",
    "      f\"\\nTotal Products Ordered: {order_status[0]}\"\n",
    "      f\"\\nPercentage of Products Ordered: {order_status[1]}%\"\n",
    "      f\"\\n\")\n",
    "\n",
    "for i in inventory:\n",
    "    for j in customer_orders:\n",
    "        if i == j:\n",
    "            inventory[i] -= 1\n",
    "for i in inventory:\n",
    "    print(i + \": \" + str(inventory[i]))"
   ]
  },
  {
   "cell_type": "code",
   "execution_count": null,
   "id": "13c6d08d-53ff-4098-b688-edb5ac727917",
   "metadata": {},
   "outputs": [],
   "source": []
  }
 ],
 "metadata": {
  "kernelspec": {
   "display_name": "Python 3 (ipykernel)",
   "language": "python",
   "name": "python3"
  },
  "language_info": {
   "codemirror_mode": {
    "name": "ipython",
    "version": 3
   },
   "file_extension": ".py",
   "mimetype": "text/x-python",
   "name": "python",
   "nbconvert_exporter": "python",
   "pygments_lexer": "ipython3",
   "version": "3.11.5"
  }
 },
 "nbformat": 4,
 "nbformat_minor": 5
}
