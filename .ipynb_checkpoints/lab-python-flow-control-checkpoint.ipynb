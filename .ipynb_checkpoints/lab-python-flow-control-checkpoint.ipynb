{
 "cells": [
  {
   "cell_type": "markdown",
   "id": "d3bfc191-8885-42ee-b0a0-bbab867c6f9f",
   "metadata": {
    "tags": []
   },
   "source": [
    "# Lab | Flow Control"
   ]
  },
  {
   "cell_type": "markdown",
   "id": "3851fcd1-cf98-4653-9c89-e003b7ec9400",
   "metadata": {},
   "source": [
    "## Exercise: Managing Customer Orders Optimized\n",
    "\n",
    "In the last lab, you were starting an online store that sells various products. To ensure smooth operations, you developed a program that manages customer orders and inventory.\n",
    "\n",
    "You did so without using flow control. Let's go a step further and improve this code.\n",
    "\n",
    "Follow the steps below to complete the exercise:\n",
    "\n",
    "1. Look at your code from the lab data structures, and improve repeated code with loops.\n",
    "\n",
    "2. Instead of asking the user to input the name of three products that a customer wants to order, do the following:\n",
    "    \n",
    "    a. Prompt the user to enter the name of a product that a customer wants to order.\n",
    "    \n",
    "    b. Add the product name to the \"customer_orders\" set.\n",
    "    \n",
    "    c. Ask the user if they want to add another product (yes/no).\n",
    "    \n",
    "    d. Continue the loop until the user does not want to add another product.\n",
    "\n",
    "3. Instead of updating the inventory by subtracting 1 from the quantity of each product, only do it for  the products that were ordered (those in \"customer_orders\")."
   ]
  },
  {
   "cell_type": "code",
   "execution_count": 33,
   "id": "9d83a808-c9c4-4128-88ac-c78a5b105b1f",
   "metadata": {},
   "outputs": [
    {
     "name": "stdin",
     "output_type": "stream",
     "text": [
      "How many t-shirts are there in the inventory?  1\n",
      "How many mugs are there in the inventory?  1\n",
      "How many hats are there in the inventory?  1\n",
      "How many books are there in the inventory?  1\n",
      "How many keychains are there in the inventory?  1\n",
      "Please input the product that you would like to order:  t-shirt\n",
      "Would you like to order another item? (Y/N)  n\n"
     ]
    },
    {
     "name": "stdout",
     "output_type": "stream",
     "text": [
      "Order Statistics:\n",
      "Total Products Ordered: 1\n",
      "Percentage of Products Ordered: 20.0%\n",
      "\n",
      "t-shirt: 0\n",
      "mug: 1\n",
      "hat: 1\n",
      "book: 1\n",
      "keychain: 1\n"
     ]
    }
   ],
   "source": [
    "products = [\"t-shirt\", \"mug\", \"hat\", \"book\", \"keychain\"]\n",
    "inventory = {product: int(input(f\"How many {product}s are there in the inventory? \")) for product in products}\n",
    "customer_orders = set()\n",
    "\n",
    "while True:\n",
    "    user_input = input(\"Please input the product that you would like to order: \")\n",
    "    if user_input in products:\n",
    "        customer_orders.add(user_input)\n",
    "    else:\n",
    "        print(\"That's not a valid product.\")\n",
    "        continue\n",
    "    while True:\n",
    "        user_choice = input(\"Would you like to order another item? (Y/N) \").lower()\n",
    "        if user_choice == 'n':\n",
    "            break\n",
    "        elif user_choice == 'y':\n",
    "            break\n",
    "        else:\n",
    "            print(\"Please enter 'Y' for yes or 'N' for no.\")\n",
    "            continue\n",
    "    if user_choice == \"n\":\n",
    "        break\n",
    "\n",
    "for product in customer_orders:\n",
    "    if inventory[product] == 0:\n",
    "        print(\"ERROR: One of the items you were trying to order is out of stock.\")\n",
    "    else:\n",
    "\n",
    "        total_ordered = len(customer_orders)\n",
    "        order_percentage = round(total_ordered / sum(inventory.values()) * 100, 2)\n",
    "        \n",
    "        print(f\"Order Statistics:\"\n",
    "              f\"\\nTotal Products Ordered: {total_ordered}\"\n",
    "              f\"\\nPercentage of Products Ordered: {order_percentage}%\"\n",
    "              f\"\\n\")\n",
    "        \n",
    "        for product in customer_orders:\n",
    "            inventory[product] -= 1\n",
    "        \n",
    "        for product, stock in inventory.items():\n",
    "            print(f\"{product}: {stock}\")"
   ]
  },
  {
   "cell_type": "code",
   "execution_count": null,
   "id": "13c6d08d-53ff-4098-b688-edb5ac727917",
   "metadata": {},
   "outputs": [],
   "source": []
  }
 ],
 "metadata": {
  "kernelspec": {
   "display_name": "Python 3 (ipykernel)",
   "language": "python",
   "name": "python3"
  },
  "language_info": {
   "codemirror_mode": {
    "name": "ipython",
    "version": 3
   },
   "file_extension": ".py",
   "mimetype": "text/x-python",
   "name": "python",
   "nbconvert_exporter": "python",
   "pygments_lexer": "ipython3",
   "version": "3.11.5"
  }
 },
 "nbformat": 4,
 "nbformat_minor": 5
}
